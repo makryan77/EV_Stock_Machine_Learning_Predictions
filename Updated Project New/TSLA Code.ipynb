{
 "cells": [
  {
   "cell_type": "markdown",
   "metadata": {
    "id": "1UukvdNl6KwR"
   },
   "source": [
    "# Importing Python libraries"
   ]
  },
  {
   "cell_type": "code",
   "execution_count": 2,
   "metadata": {
    "id": "R8OC-FfI6KwS"
   },
   "outputs": [],
   "source": [
    "import numpy as np \n",
    "import pandas as pd \n",
    "import seaborn as sns \n",
    "from matplotlib import cm\n",
    "import matplotlib.pyplot as plt\n",
    "from datetime import datetime\n",
    "import datetime\n",
    "import yfinance as yf\n",
    "from sklearn.metrics import mean_squared_error\n",
    "from sklearn.metrics import r2_score\n",
    "from sklearn.metrics import mean_absolute_error\n",
    "from sklearn.model_selection import train_test_split\n",
    "from datetime import datetime\n",
    "from keras.layers import Activation\n",
    "from keras.optimizers import Adam\n",
    "from keras.models import Sequential\n",
    "from keras.layers import Dense, Dropout\n",
    "from sklearn.preprocessing import MinMaxScaler\n",
    "from sklearn.ensemble import RandomForestRegressor\n",
    "from xgboost.sklearn import XGBRegressor\n",
    "from sklearn.ensemble import VotingRegressor\n",
    "# from prettytable import PrettyTable\n",
    "from plotly.subplots import make_subplots\n",
    "from plotly.offline import download_plotlyjs, init_notebook_mode, plot, iplot\n",
    "import plotly.graph_objs as go\n",
    "from statsmodels.tsa.stattools import adfuller\n",
    "from scipy import stats\n",
    "from scipy.stats import normaltest\n",
    "import statsmodels.api as sm\n",
    "from statsmodels.graphics.tsaplots import plot_acf, plot_pacf\n",
    "\n",
    "\n",
    "\n",
    "import warnings\n",
    "warnings.filterwarnings(\"ignore\")"
   ]
  },
  {
   "cell_type": "markdown",
   "metadata": {
    "papermill": {
     "duration": 0.065466,
     "end_time": "2020-11-30T07:38:51.578836",
     "exception": false,
     "start_time": "2020-11-30T07:38:51.513370",
     "status": "completed"
    },
    "tags": []
   },
   "source": [
    "<div class=\"alert alert-block alert-success\">  \n",
    "    <h6>\"</h6>\n",
    "    <h6>\"</h6>\n",
    "    <h6>\"</h6>\n",
    "    <h6>\"</h6>\n",
    "    <h6>\"</h6>\n",
    "<h1><center><strong> TSLA Stock</strong></center></h1>\n",
    "    <h6>\"</h6>\n",
    "    <h6>\"</h6>\n",
    "    <h6>\"</h6>\n",
    "    <h6>\"</h6>\n",
    "    <h6>\"</h6>\n",
    "        \n",
    "</div>"
   ]
  },
  {
   "cell_type": "markdown",
   "metadata": {
    "id": "bpBikXkO6KwY"
   },
   "source": [
    "# ------------------------------------------------------------------------------------------------------"
   ]
  },
  {
   "cell_type": "markdown",
   "metadata": {
    "id": "8Zdt4_b66KwZ"
   },
   "source": [
    "# Loading dataset"
   ]
  },
  {
   "cell_type": "code",
   "execution_count": null,
   "metadata": {},
   "outputs": [],
   "source": [
    "data = yf.Ticker(\"TSLA\")\n",
    "data = data.history(period='10y')"
   ]
  },
  {
   "cell_type": "markdown",
   "metadata": {
    "id": "cPsP0-ck6Kwi"
   },
   "source": [
    "# ------------------------------------------------------------------------------------------------------"
   ]
  },
  {
   "cell_type": "markdown",
   "metadata": {
    "id": "xmSS2WOp6Kwj"
   },
   "source": [
    "# Exploratory Data analysis"
   ]
  },
  {
   "cell_type": "markdown",
   "metadata": {
    "id": "cPsP0-ck6Kwi"
   },
   "source": [
    "# ------------------------------------------------------------------------------------------------------"
   ]
  },
  {
   "cell_type": "markdown",
   "metadata": {
    "id": "ZK0vjYEf6Kwj"
   },
   "source": [
    "### Five top records of data"
   ]
  },
  {
   "cell_type": "code",
   "execution_count": null,
   "metadata": {
    "colab": {
     "base_uri": "https://localhost:8080/",
     "height": 221
    },
    "id": "i04EQ5NA6Kwk",
    "outputId": "01164c26-db58-4034-f661-a2b96987dbd2"
   },
   "outputs": [],
   "source": [
    "data.head()"
   ]
  },
  {
   "cell_type": "markdown",
   "metadata": {
    "id": "_EWWldc46Kwn"
   },
   "source": [
    "### Five last records of data"
   ]
  },
  {
   "cell_type": "code",
   "execution_count": null,
   "metadata": {
    "colab": {
     "base_uri": "https://localhost:8080/",
     "height": 221
    },
    "id": "W1DHmXLe6Kwo",
    "outputId": "048cdd2e-33e3-4bd4-da52-26184288fbef"
   },
   "outputs": [],
   "source": [
    "data.tail()"
   ]
  },
  {
   "cell_type": "markdown",
   "metadata": {
    "id": "boklSXSm6Kwr"
   },
   "source": [
    "### Coloumns/features in data"
   ]
  },
  {
   "cell_type": "code",
   "execution_count": null,
   "metadata": {
    "colab": {
     "base_uri": "https://localhost:8080/",
     "height": 102
    },
    "id": "0W07jJ0y6Kws",
    "outputId": "8ae05e6f-30c2-4f28-914b-cd37ad5fda09"
   },
   "outputs": [],
   "source": [
    "data.columns"
   ]
  },
  {
   "cell_type": "markdown",
   "metadata": {
    "id": "ug7ng1br6Kwx"
   },
   "source": [
    "### Length of data"
   ]
  },
  {
   "cell_type": "code",
   "execution_count": null,
   "metadata": {
    "colab": {
     "base_uri": "https://localhost:8080/",
     "height": 34
    },
    "id": "OWjLWJht6Kwy",
    "outputId": "81dcd4cc-8e10-4c7f-d867-314ea22a39d7"
   },
   "outputs": [],
   "source": [
    "print('lenght of data is', len(data))"
   ]
  },
  {
   "cell_type": "markdown",
   "metadata": {
    "id": "mMKsusiS6Kw1"
   },
   "source": [
    "### Shape of data"
   ]
  },
  {
   "cell_type": "code",
   "execution_count": null,
   "metadata": {
    "colab": {
     "base_uri": "https://localhost:8080/",
     "height": 34
    },
    "id": "yKHeg7766Kw2",
    "outputId": "f49f0287-c48c-4772-af87-4d1105c87f1d"
   },
   "outputs": [],
   "source": [
    "data.shape"
   ]
  },
  {
   "cell_type": "markdown",
   "metadata": {
    "id": "Aq9XHcAo6Kw5"
   },
   "source": [
    "### Data information"
   ]
  },
  {
   "cell_type": "code",
   "execution_count": null,
   "metadata": {
    "colab": {
     "base_uri": "https://localhost:8080/",
     "height": 442
    },
    "id": "2vMyk6sb6Kw6",
    "outputId": "64c3f465-bc01-46a0-c68d-deac691d5fab",
    "scrolled": false
   },
   "outputs": [],
   "source": [
    "data.info()"
   ]
  },
  {
   "cell_type": "markdown",
   "metadata": {
    "id": "r4ecZ1oi6Kw9"
   },
   "source": [
    "### Data types of all coloumns"
   ]
  },
  {
   "cell_type": "code",
   "execution_count": null,
   "metadata": {
    "colab": {
     "base_uri": "https://localhost:8080/",
     "height": 187
    },
    "id": "Df031nlz6Kw-",
    "outputId": "b8e2b6c8-a966-486b-caea-aaf5a5617d7d"
   },
   "outputs": [],
   "source": [
    "data.dtypes"
   ]
  },
  {
   "cell_type": "markdown",
   "metadata": {
    "id": "OC8zoWHz6KxE"
   },
   "source": [
    "### Checking missing Values"
   ]
  },
  {
   "cell_type": "code",
   "execution_count": null,
   "metadata": {
    "colab": {
     "base_uri": "https://localhost:8080/",
     "height": 66
    },
    "id": "LPzxJI-U6KxF",
    "outputId": "8368ffe1-9355-4ba1-b32e-ff44980ebffd",
    "scrolled": true
   },
   "outputs": [],
   "source": [
    "data[data.isnull().any(axis=1)].head()"
   ]
  },
  {
   "cell_type": "markdown",
   "metadata": {
    "id": "2YDSJNQs6KxJ"
   },
   "source": [
    "### Count of missing values"
   ]
  },
  {
   "cell_type": "code",
   "execution_count": null,
   "metadata": {
    "colab": {
     "base_uri": "https://localhost:8080/",
     "height": 34
    },
    "id": "oXZfMyzO6KxJ",
    "outputId": "af706933-1e9d-45e9-865b-8feaba37cfcb",
    "scrolled": true
   },
   "outputs": [],
   "source": [
    "np.sum(data.isnull().any(axis=1))"
   ]
  },
  {
   "cell_type": "markdown",
   "metadata": {
    "id": "Yk3ZIxfA6KxM"
   },
   "source": [
    "### Is there any missing values?"
   ]
  },
  {
   "cell_type": "code",
   "execution_count": null,
   "metadata": {
    "colab": {
     "base_uri": "https://localhost:8080/",
     "height": 34
    },
    "id": "rL204kx76KxN",
    "outputId": "b964e354-80d2-46b7-99f9-0b45146cd8c6"
   },
   "outputs": [],
   "source": [
    "data.isnull().values.any()"
   ]
  },
  {
   "cell_type": "markdown",
   "metadata": {
    "id": "tkx661XJ6KxU"
   },
   "source": [
    "### Counts of missing values in each column"
   ]
  },
  {
   "cell_type": "code",
   "execution_count": null,
   "metadata": {
    "colab": {
     "base_uri": "https://localhost:8080/",
     "height": 187
    },
    "id": "BnErEev16KxV",
    "outputId": "e003c009-fb08-4b45-dbb5-0a0ff8e8908f",
    "scrolled": true
   },
   "outputs": [],
   "source": [
    "data.isnull().sum()"
   ]
  },
  {
   "cell_type": "markdown",
   "metadata": {
    "id": "q26MlksU6KxY"
   },
   "source": [
    "### Data Description"
   ]
  },
  {
   "cell_type": "code",
   "execution_count": null,
   "metadata": {
    "colab": {
     "base_uri": "https://localhost:8080/",
     "height": 314
    },
    "id": "lqQIiQSf6KxY",
    "outputId": "0283670e-8447-4c86-e2de-6fcb8a2d4c2f"
   },
   "outputs": [],
   "source": [
    "data.describe()"
   ]
  },
  {
   "cell_type": "markdown",
   "metadata": {},
   "source": [
    "### Data Correlation"
   ]
  },
  {
   "cell_type": "code",
   "execution_count": null,
   "metadata": {},
   "outputs": [],
   "source": [
    "aa=data[['Close','Open','Low','High','Volume']]\n",
    "rets=aa.pct_change()\n",
    "cor=rets.corr(method='pearson')\n",
    "cor"
   ]
  },
  {
   "cell_type": "code",
   "execution_count": null,
   "metadata": {},
   "outputs": [],
   "source": [
    "corrmat = aa.corr()\n",
    "plt.subplots(figsize=(20, 10))\n",
    "sns.heatmap(corrmat, vmax=.9, square=True, annot = True)"
   ]
  },
  {
   "cell_type": "markdown",
   "metadata": {},
   "source": [
    "### Correlation with Close "
   ]
  },
  {
   "cell_type": "code",
   "execution_count": null,
   "metadata": {},
   "outputs": [],
   "source": [
    "a = aa.drop(columns=['Close'], axis=1)\n",
    "a.corrwith(aa['Close']).plot.bar(\n",
    "                figsize = (10, 6), title = \"Correlation of Close\", fontsize = 15,\n",
    "                rot = 90, grid = True, color='orange')"
   ]
  },
  {
   "cell_type": "markdown",
   "metadata": {},
   "source": [
    "### Spliting date into day, month and year"
   ]
  },
  {
   "cell_type": "code",
   "execution_count": null,
   "metadata": {
    "colab": {},
    "colab_type": "code",
    "id": "Ex001kdIl_3y"
   },
   "outputs": [],
   "source": [
    "data['date'] = data.index\n",
    "data['Month'] = data['date'].dt.month\n",
    "data['Day'] = data['date'].dt.day\n",
    "data['Year'] = data['date'].dt.year"
   ]
  },
  {
   "cell_type": "markdown",
   "metadata": {},
   "source": [
    "### Close price with respect to year "
   ]
  },
  {
   "cell_type": "code",
   "execution_count": null,
   "metadata": {},
   "outputs": [],
   "source": [
    "sns.barplot(x='Year', y='Close', data=data).set(title='Year vs Close')\n",
    "plt.show()"
   ]
  },
  {
   "cell_type": "markdown",
   "metadata": {},
   "source": [
    "### Close price with respect to Month "
   ]
  },
  {
   "cell_type": "code",
   "execution_count": null,
   "metadata": {},
   "outputs": [],
   "source": [
    "sns.barplot(x='Month', y='Close', data=data).set(title='Year vs Close')\n",
    "plt.show()"
   ]
  },
  {
   "cell_type": "markdown",
   "metadata": {
    "id": "cPsP0-ck6Kwi"
   },
   "source": [
    "# ------------------------------------------------------------------------------------------------------"
   ]
  },
  {
   "cell_type": "markdown",
   "metadata": {},
   "source": [
    "# Data Visualization"
   ]
  },
  {
   "cell_type": "markdown",
   "metadata": {
    "id": "cPsP0-ck6Kwi"
   },
   "source": [
    "# ------------------------------------------------------------------------------------------------------"
   ]
  },
  {
   "cell_type": "markdown",
   "metadata": {
    "id": "k9bFJJga6Kxe"
   },
   "source": [
    "### CLOSE price values plot"
   ]
  },
  {
   "cell_type": "code",
   "execution_count": null,
   "metadata": {
    "colab": {
     "base_uri": "https://localhost:8080/",
     "height": 334
    },
    "id": "_LtkLF1K6Kxf",
    "outputId": "e534b228-07e2-4c5e-c533-c8a9334e6494"
   },
   "outputs": [],
   "source": [
    "plt.figure(figsize=(20, 10))\n",
    "plt.subplot(1,1,1)\n",
    "plt.plot(data.index, data['Close'].values,color='orange',label='CLOSE')\n",
    "plt.xlabel('Count of all')\n",
    "plt.ylabel('count of each record')\n",
    "plt.legend(loc='best')\n",
    "plt.show()"
   ]
  },
  {
   "cell_type": "markdown",
   "metadata": {
    "id": "46nKYFnh6KyZ"
   },
   "source": [
    "# ------------------------------------------------------------------------------------------------------"
   ]
  },
  {
   "cell_type": "markdown",
   "metadata": {},
   "source": [
    "# Data Preparation and Feature Extraction"
   ]
  },
  {
   "cell_type": "markdown",
   "metadata": {
    "id": "46nKYFnh6KyZ"
   },
   "source": [
    "# ------------------------------------------------------------------------------------------------------"
   ]
  },
  {
   "cell_type": "markdown",
   "metadata": {},
   "source": [
    "### stochastic features "
   ]
  },
  {
   "cell_type": "code",
   "execution_count": null,
   "metadata": {},
   "outputs": [],
   "source": [
    "def stochastic(df, k, d):\n",
    "    low_min  = df['Low'].rolling(window=k).min()\n",
    "    high_max = df['High'].rolling( window=k).max()\n",
    "    df['stochastic_k'] = 100 * (df['Close'] - low_min)/(high_max - low_min)\n",
    "    df['stochastic_d'] = df['stochastic_k'].rolling(window=d).mean()\n",
    "    return df\n",
    "\n",
    "stochs = stochastic(data, k=14, d=3)\n",
    "fig = go.Figure()\n",
    "fig.add_trace(go.Scatter(x=data.index, y=stochs.stochastic_k.tail(365), name='K stochastic'))\n",
    "fig.add_trace(go.Scatter(x=data.index, y=stochs.stochastic_d.tail(365), name='D stochastic'))\n",
    "fig.show()"
   ]
  },
  {
   "cell_type": "markdown",
   "metadata": {},
   "source": [
    "### EMA, MACD, MACD single features "
   ]
  },
  {
   "cell_type": "code",
   "execution_count": null,
   "metadata": {},
   "outputs": [],
   "source": [
    "\n",
    "EMA_12 = pd.Series(data['Close'].ewm(span=12, min_periods=12).mean())\n",
    "EMA_26 = pd.Series(data['Close'].ewm(span=26, min_periods=26).mean())\n",
    "MACD = pd.Series(EMA_12 - EMA_26)\n",
    "data['MACD']=pd.Series(EMA_12 - EMA_26)\n",
    "MACD_signal = pd.Series(MACD.ewm(span=9, min_periods=9).mean())\n",
    "fig = make_subplots(rows=2, cols=1)\n",
    "fig.add_trace(go.Scatter(x=data.index, y=data.Close, name='Close'), row=1, col=1)\n",
    "fig.add_trace(go.Scatter(x=data.index, y=EMA_12, name='EMA 12'), row=1, col=1)\n",
    "fig.add_trace(go.Scatter(x=data.index, y=EMA_26, name='EMA 26'), row=1, col=1)\n",
    "fig.add_trace(go.Scatter(x=data.index, y=MACD, name='MACD'), row=2, col=1)\n",
    "fig.add_trace(go.Scatter(x=data.index, y=MACD_signal, name='Signal line'), row=2, col=1)\n",
    "fig.show()"
   ]
  },
  {
   "cell_type": "code",
   "execution_count": null,
   "metadata": {},
   "outputs": [],
   "source": [
    "data['MACD'].plot()"
   ]
  },
  {
   "cell_type": "markdown",
   "metadata": {},
   "source": [
    "### Moving average features"
   ]
  },
  {
   "cell_type": "code",
   "execution_count": null,
   "metadata": {},
   "outputs": [],
   "source": [
    "data['EMA_50'] = data['Close'].ewm(50).mean().shift()\n",
    "data['EMA_200'] =data['Close'].ewm(200).mean().shift()\n",
    "data['MA_50'] = data['Close'].rolling(50).mean()\n",
    "data['MA_200'] = data['Close'].rolling(200).mean()\n",
    "fig = go.Figure()\n",
    "fig.add_trace(go.Scatter(x=data.index, y=data.EMA_50, name='EMA 50'))\n",
    "fig.add_trace(go.Scatter(x=data.index, y=data.EMA_200, name='EMA 200'))\n",
    "fig.add_trace(go.Scatter(x=data.index, y=data.Close, name='Close', line_color='dimgray', opacity=0.3))\n",
    "fig.show()"
   ]
  },
  {
   "cell_type": "code",
   "execution_count": null,
   "metadata": {},
   "outputs": [],
   "source": [
    "fig = go.Figure()\n",
    "fig.add_trace(go.Scatter(x=data.index, y=data.MA_50, name='MA 50'))\n",
    "fig.add_trace(go.Scatter(x=data.index, y=data.MA_200, name='MA 200'))\n",
    "\n",
    "fig.add_trace(go.Scatter(x=data.index, y=data.Close, name='Close', line_color='dimgray', opacity=0.3))\n",
    "fig.show()"
   ]
  },
  {
   "cell_type": "markdown",
   "metadata": {},
   "source": [
    "### Relative Strength Index RSI 7 and 14 features"
   ]
  },
  {
   "cell_type": "code",
   "execution_count": null,
   "metadata": {},
   "outputs": [],
   "source": [
    "def RSI(df, n=14):\n",
    "    close = df['Close']\n",
    "    delta = close.diff()\n",
    "    delta = delta[1:]\n",
    "    pricesUp = delta.copy()\n",
    "    pricesDown = delta.copy()\n",
    "    pricesUp[pricesUp < 0] = 0\n",
    "    pricesDown[pricesDown > 0] = 0\n",
    "    rollUp = pricesUp.rolling(n).mean()\n",
    "    rollDown = pricesDown.abs().rolling(n).mean()\n",
    "    rs = rollUp / rollDown\n",
    "    rsi = 100.0 - (100.0 / (1.0 + rs))\n",
    "    return rsi\n",
    "\n",
    "\n",
    "data['RSI 7'] = RSI(data).fillna(0)\n",
    "fig = go.Figure(go.Scatter(x=data.index, y=data['RSI 7']))\n",
    "fig.show()"
   ]
  },
  {
   "cell_type": "code",
   "execution_count": null,
   "metadata": {},
   "outputs": [],
   "source": [
    "data['RSI 14'] = RSI(data).fillna(0)\n",
    "fig = go.Figure(go.Scatter(x=data.index, y=data['RSI 14']))\n",
    "fig.show()"
   ]
  },
  {
   "cell_type": "markdown",
   "metadata": {},
   "source": [
    "### Bollinger bands features"
   ]
  },
  {
   "cell_type": "code",
   "execution_count": null,
   "metadata": {},
   "outputs": [],
   "source": [
    "def bbands(price, length=30, numsd=2):\n",
    "    ave = price.rolling(window = length, center = False).mean()\n",
    "    sd = price.rolling(window = length, center = False).std()\n",
    "    upband = ave + (sd*numsd)\n",
    "    dnband = ave - (sd*numsd)\n",
    "    return np.round(ave,3), np.round(upband,3), np.round(dnband,3)\n",
    "\n",
    "data['BB_Middle_Band'], data['BB_Upper_Band'], data['BB_Lower_Band'] = bbands(data['Close'], length=20, numsd=1)"
   ]
  },
  {
   "cell_type": "code",
   "execution_count": null,
   "metadata": {},
   "outputs": [],
   "source": [
    "fig = go.Figure(go.Scatter(x=data.index, y=data['BB_Middle_Band']))\n",
    "fig.show()"
   ]
  },
  {
   "cell_type": "markdown",
   "metadata": {},
   "source": [
    "### Calculation of Aroon Oscillator features"
   ]
  },
  {
   "cell_type": "code",
   "execution_count": null,
   "metadata": {},
   "outputs": [],
   "source": [
    "def aroon(df, tf=25):\n",
    "    aroonup = []\n",
    "    aroondown = []\n",
    "    x = tf\n",
    "    while x< len(df.index):\n",
    "        aroon_up = ((df['High'][x-tf:x].tolist().index(max(df['High'][x-tf:x])))/float(tf))*100\n",
    "        aroon_down = ((df['Low'][x-tf:x].tolist().index(min(df['Low'][x-tf:x])))/float(tf))*100\n",
    "        aroonup.append(aroon_up)\n",
    "        aroondown.append(aroon_down)\n",
    "        x+=1\n",
    "    return aroonup, aroondown"
   ]
  },
  {
   "cell_type": "code",
   "execution_count": null,
   "metadata": {},
   "outputs": [],
   "source": [
    "listofzeros = [0] * 25\n",
    "up, down = aroon(data)\n",
    "aroon_list = [x - y for x, y in zip(up,down)]\n",
    "if len(aroon_list)==0:\n",
    "    aroon_list = [0] * data.shape[0]\n",
    "    data['Aroon_Oscillator'] = aroon_list\n",
    "else:\n",
    "    data['Aroon_Oscillator'] = listofzeros+aroon_list"
   ]
  },
  {
   "cell_type": "code",
   "execution_count": null,
   "metadata": {
    "scrolled": true
   },
   "outputs": [],
   "source": [
    "fig = go.Figure(go.Scatter(x=data.index, y=data['Aroon_Oscillator']))\n",
    "fig.show()"
   ]
  },
  {
   "cell_type": "markdown",
   "metadata": {},
   "source": [
    "### Average Directional Index features"
   ]
  },
  {
   "cell_type": "code",
   "execution_count": null,
   "metadata": {},
   "outputs": [],
   "source": [
    "data['ATR'] = data['Close'].rolling(window=14).mean()\n",
    "def DMI(df, period):\n",
    "    df['UpMove'] = df['High'] - df['High'].shift(1)\n",
    "    df['DownMove'] = df['Low'].shift(1) - df['Low']\n",
    "    df['Zero'] = 0\n",
    "\n",
    "    df['PlusDM'] = np.where((df['UpMove'] > df['DownMove']) & (df['UpMove'] > df['Zero']), df['UpMove'], 0)\n",
    "    df['MinusDM'] = np.where((df['UpMove'] < df['DownMove']) & (df['DownMove'] > df['Zero']), df['DownMove'], 0)\n",
    "\n",
    "    df['plusDI'] = 100 * (df['PlusDM']/df['ATR']).ewm(span=period,min_periods=0,adjust=True,ignore_na=False).mean()\n",
    "    df['minusDI'] = 100 * (df['MinusDM']/df['ATR']).ewm(span=period,min_periods=0,adjust=True,ignore_na=False).mean()\n",
    "\n",
    "    df['ADX'] = 100 * (abs((df['plusDI'] - df['minusDI'])/(df['plusDI'] + df['minusDI']))).ewm(span=period,min_periods=0,adjust=True,ignore_na=False).mean()\n",
    "DMI(data, 14)"
   ]
  },
  {
   "cell_type": "code",
   "execution_count": null,
   "metadata": {
    "scrolled": true
   },
   "outputs": [],
   "source": [
    "fig = go.Figure(go.Scatter(x=data.index, y=data['ADX']))\n",
    "fig.show()"
   ]
  },
  {
   "cell_type": "markdown",
   "metadata": {},
   "source": [
    "# Final Data after features extraction and preparation"
   ]
  },
  {
   "cell_type": "code",
   "execution_count": null,
   "metadata": {},
   "outputs": [],
   "source": [
    "data=data.replace(np.NaN, 0)\n",
    "data"
   ]
  },
  {
   "cell_type": "markdown",
   "metadata": {
    "id": "e5eoGsX_6Ky8"
   },
   "source": [
    "# -----------------------------------------------------------------------------------------------------------"
   ]
  },
  {
   "cell_type": "markdown",
   "metadata": {
    "id": "e5eoGsX_6Ky8"
   },
   "source": [
    "# -----------------------------------------------------------------------------------------------------------"
   ]
  },
  {
   "cell_type": "markdown",
   "metadata": {},
   "source": [
    "<h1><center> Modelling </center></h1>"
   ]
  },
  {
   "cell_type": "markdown",
   "metadata": {
    "id": "e5eoGsX_6Ky8"
   },
   "source": [
    "# -----------------------------------------------------------------------------------------------------------"
   ]
  },
  {
   "cell_type": "markdown",
   "metadata": {},
   "source": [
    "### Taking input features "
   ]
  },
  {
   "cell_type": "code",
   "execution_count": null,
   "metadata": {
    "colab": {},
    "colab_type": "code",
    "id": "UqWiH-M8l_tr"
   },
   "outputs": [],
   "source": [
    "X=data.drop(columns=['Close','date'])\n",
    "X"
   ]
  },
  {
   "cell_type": "markdown",
   "metadata": {},
   "source": [
    "### Taking target as output"
   ]
  },
  {
   "cell_type": "code",
   "execution_count": null,
   "metadata": {},
   "outputs": [],
   "source": [
    "y=data['Close']\n",
    "y"
   ]
  },
  {
   "cell_type": "markdown",
   "metadata": {},
   "source": [
    "### Spliting the data into training and Testing"
   ]
  },
  {
   "cell_type": "code",
   "execution_count": null,
   "metadata": {
    "colab": {},
    "colab_type": "code",
    "id": "uza2lA_Xl-W6"
   },
   "outputs": [],
   "source": [
    "X_train = X[:int(0.9*(len(X)))]\n",
    "X_test = X[int(0.9*(len(X))):]\n",
    "\n",
    "y_train = y[:int(0.9*(len(y)))]\n",
    "y_test = y[int(0.9*(len(y))):]"
   ]
  },
  {
   "cell_type": "markdown",
   "metadata": {},
   "source": [
    "### First 90% data as training "
   ]
  },
  {
   "cell_type": "code",
   "execution_count": null,
   "metadata": {},
   "outputs": [],
   "source": [
    "X_train"
   ]
  },
  {
   "cell_type": "markdown",
   "metadata": {},
   "source": [
    "### Latest 10% data as testing "
   ]
  },
  {
   "cell_type": "code",
   "execution_count": null,
   "metadata": {},
   "outputs": [],
   "source": [
    "X_test"
   ]
  },
  {
   "cell_type": "markdown",
   "metadata": {},
   "source": [
    "### Converting the input features and target into array"
   ]
  },
  {
   "cell_type": "code",
   "execution_count": null,
   "metadata": {},
   "outputs": [],
   "source": [
    "X_train=np.array(X_train)\n",
    "y_train=np.array(y_train)\n",
    "\n",
    "X_test=np.array(X_test)\n",
    "y_test=np.array(y_test)"
   ]
  },
  {
   "cell_type": "markdown",
   "metadata": {},
   "source": [
    "### Features Normalization"
   ]
  },
  {
   "cell_type": "code",
   "execution_count": null,
   "metadata": {},
   "outputs": [],
   "source": [
    "scaler = MinMaxScaler()\n",
    "scaler.fit(X_train)\n",
    "X_train=scaler.transform(X_train)\n",
    "\n",
    "scaler = MinMaxScaler()\n",
    "scaler.fit(X_test)\n",
    "X_test=scaler.transform(X_test)"
   ]
  },
  {
   "cell_type": "markdown",
   "metadata": {},
   "source": [
    "# --------------------------------------------------------------------------------------------------"
   ]
  },
  {
   "cell_type": "markdown",
   "metadata": {},
   "source": [
    "# Random Forest Model"
   ]
  },
  {
   "cell_type": "code",
   "execution_count": null,
   "metadata": {},
   "outputs": [],
   "source": [
    "RF=RandomForestRegressor()\n",
    "RF= RF.fit(X_train , y_train)\n",
    "RF"
   ]
  },
  {
   "cell_type": "markdown",
   "metadata": {
    "id": "Pf58ZqXBLG92"
   },
   "source": [
    "# Evaluation Measures on Test data"
   ]
  },
  {
   "cell_type": "markdown",
   "metadata": {
    "id": "qkcalTi0ZGC2"
   },
   "source": [
    "# R2"
   ]
  },
  {
   "cell_type": "code",
   "execution_count": null,
   "metadata": {
    "colab": {
     "base_uri": "https://localhost:8080/"
    },
    "id": "1XrbLKYnZGC4",
    "outputId": "c0542e93-bd99-4eae-c134-5268a4e2c3fc"
   },
   "outputs": [],
   "source": [
    "y_pred_test = RF.predict(X_test)\n",
    "rf_test_rs=r2_score(y_test,y_pred_test)\n",
    "print('R Squared : ', round(rf_test_rs,3))"
   ]
  },
  {
   "cell_type": "markdown",
   "metadata": {
    "id": "w1BTf8THZGC-"
   },
   "source": [
    "# MSE"
   ]
  },
  {
   "cell_type": "code",
   "execution_count": null,
   "metadata": {
    "colab": {
     "base_uri": "https://localhost:8080/"
    },
    "id": "UGGMF4-KZGDA",
    "outputId": "d9ed4eb7-a5f9-499f-a185-458f7f001012"
   },
   "outputs": [],
   "source": [
    "rf_test_mse=mean_squared_error(y_test,y_pred_test)\n",
    "print('Mean Squared Error: ', round(rf_test_mse,3))"
   ]
  },
  {
   "cell_type": "markdown",
   "metadata": {
    "id": "ecIh2V5aZGDG"
   },
   "source": [
    "# MAE"
   ]
  },
  {
   "cell_type": "code",
   "execution_count": null,
   "metadata": {
    "colab": {
     "base_uri": "https://localhost:8080/"
    },
    "id": "EPewmcfSZGDJ",
    "outputId": "5153a04e-29c0-44a5-82d3-9e5c083eae89"
   },
   "outputs": [],
   "source": [
    "rf_test_MAE=mean_absolute_error(y_test,y_pred_test)\n",
    "print('Mean Absolute Error: ', round(rf_test_MAE,3))"
   ]
  },
  {
   "cell_type": "markdown",
   "metadata": {},
   "source": [
    "# Predictions and Actual Stock Price"
   ]
  },
  {
   "cell_type": "code",
   "execution_count": null,
   "metadata": {},
   "outputs": [],
   "source": [
    "a=pd.DataFrame()\n",
    "a['Actual Stock Price']=y_test\n",
    "a['Predicted Stock Price']=y_pred_test\n",
    "plt.figure(figsize=(20, 7))\n",
    "plt.subplot(1,1,1)\n",
    "plt.plot(a['Actual Stock Price'].values,color='orange',label='Actual Stock Prices')\n",
    "plt.plot(a['Predicted Stock Price'].values,color='purple',label='Predicted Stock Price')\n",
    "plt.title('Comparison of actual and predicted stock prices')\n",
    "plt.xlabel('Day')\n",
    "plt.ylabel('Prices')\n",
    "plt.legend()\n",
    "plt.show()"
   ]
  },
  {
   "cell_type": "markdown",
   "metadata": {},
   "source": [
    "# --------------------------------------------------------------------------------------------------"
   ]
  },
  {
   "cell_type": "markdown",
   "metadata": {},
   "source": [
    "# --------------------------------------------------------------------------------------------------"
   ]
  },
  {
   "cell_type": "markdown",
   "metadata": {},
   "source": [
    "# XGBoost Model"
   ]
  },
  {
   "cell_type": "code",
   "execution_count": null,
   "metadata": {},
   "outputs": [],
   "source": [
    "XGB=XGBRegressor()\n",
    "XGB= XGB.fit(X_train, y_train)\n",
    "XGB"
   ]
  },
  {
   "cell_type": "markdown",
   "metadata": {
    "id": "Pf58ZqXBLG92"
   },
   "source": [
    "# Evaluation Measures on Test data"
   ]
  },
  {
   "cell_type": "markdown",
   "metadata": {
    "id": "qkcalTi0ZGC2"
   },
   "source": [
    "# R2"
   ]
  },
  {
   "cell_type": "code",
   "execution_count": null,
   "metadata": {
    "colab": {
     "base_uri": "https://localhost:8080/"
    },
    "id": "1XrbLKYnZGC4",
    "outputId": "c0542e93-bd99-4eae-c134-5268a4e2c3fc"
   },
   "outputs": [],
   "source": [
    "y_pred_test = XGB.predict(X_test)\n",
    "xgb_test_rs=r2_score(y_test,y_pred_test)\n",
    "print('R Squared : ', round(xgb_test_rs,3))"
   ]
  },
  {
   "cell_type": "markdown",
   "metadata": {
    "id": "w1BTf8THZGC-"
   },
   "source": [
    "# MSE"
   ]
  },
  {
   "cell_type": "code",
   "execution_count": null,
   "metadata": {
    "colab": {
     "base_uri": "https://localhost:8080/"
    },
    "id": "UGGMF4-KZGDA",
    "outputId": "d9ed4eb7-a5f9-499f-a185-458f7f001012"
   },
   "outputs": [],
   "source": [
    "XGB_test_mse=mean_squared_error(y_test,y_pred_test)\n",
    "print('Mean Squared Error: ', round(XGB_test_mse,3))"
   ]
  },
  {
   "cell_type": "markdown",
   "metadata": {
    "id": "ecIh2V5aZGDG"
   },
   "source": [
    "# MAE"
   ]
  },
  {
   "cell_type": "code",
   "execution_count": null,
   "metadata": {
    "colab": {
     "base_uri": "https://localhost:8080/"
    },
    "id": "EPewmcfSZGDJ",
    "outputId": "5153a04e-29c0-44a5-82d3-9e5c083eae89"
   },
   "outputs": [],
   "source": [
    "XGB_test_MAE=mean_absolute_error(y_test,y_pred_test)\n",
    "print('Mean Absolute Error: ', round(XGB_test_MAE,3))"
   ]
  },
  {
   "cell_type": "markdown",
   "metadata": {},
   "source": [
    "# Predictions and Actual Stock Price"
   ]
  },
  {
   "cell_type": "code",
   "execution_count": null,
   "metadata": {},
   "outputs": [],
   "source": [
    "a=pd.DataFrame()\n",
    "a['Actual Stock Price']=y_test\n",
    "a['Predicted Stock Price']=y_pred_test\n",
    "plt.figure(figsize=(20, 7))\n",
    "plt.subplot(1,1,1)\n",
    "plt.plot(a['Actual Stock Price'].values,color='orange',label='Actual Stock Prices')\n",
    "plt.plot(a['Predicted Stock Price'].values,color='blue',label='Predicted Stock Price')\n",
    "plt.title('Comparison of actual and predicted stock prices')\n",
    "plt.xlabel('Day')\n",
    "plt.ylabel('Prices')\n",
    "plt.legend()\n",
    "plt.show()"
   ]
  },
  {
   "cell_type": "markdown",
   "metadata": {},
   "source": [
    "# --------------------------------------------------------------------------------------------------"
   ]
  },
  {
   "cell_type": "markdown",
   "metadata": {},
   "source": [
    "# --------------------------------------------------------------------------------------------------"
   ]
  },
  {
   "cell_type": "markdown",
   "metadata": {},
   "source": [
    "# Ensemble learning Model"
   ]
  },
  {
   "cell_type": "code",
   "execution_count": null,
   "metadata": {
    "_cell_guid": "532dcc6f-33a1-4726-a07a-e4bb2ef0b396",
    "_kg_hide-input": true,
    "_uuid": "40c82b43dd34bb9b7685c76bea0f5ca7e761c1d4",
    "colab": {},
    "colab_type": "code",
    "id": "0lcJ9UZSww7f"
   },
   "outputs": [],
   "source": [
    "RF_1=RandomForestRegressor()\n",
    "XGB_1=XGBRegressor()"
   ]
  },
  {
   "cell_type": "code",
   "execution_count": null,
   "metadata": {},
   "outputs": [],
   "source": [
    "Hyib = VotingRegressor( estimators= [('RF',RF_1),('XGB',XGB_1)])\n",
    "Hyib= Hyib.fit(X_train , y_train)\n",
    "Hyib"
   ]
  },
  {
   "cell_type": "markdown",
   "metadata": {
    "id": "Pf58ZqXBLG92"
   },
   "source": [
    "# Evaluation Measures on Test data"
   ]
  },
  {
   "cell_type": "markdown",
   "metadata": {
    "id": "qkcalTi0ZGC2"
   },
   "source": [
    "# R2"
   ]
  },
  {
   "cell_type": "code",
   "execution_count": null,
   "metadata": {
    "colab": {
     "base_uri": "https://localhost:8080/"
    },
    "id": "1XrbLKYnZGC4",
    "outputId": "c0542e93-bd99-4eae-c134-5268a4e2c3fc"
   },
   "outputs": [],
   "source": [
    "y_pred_test = Hyib.predict(X_test)\n",
    "Hyib_test_rs=r2_score(y_test,y_pred_test)\n",
    "print('R Squared : ', round(Hyib_test_rs,3))"
   ]
  },
  {
   "cell_type": "markdown",
   "metadata": {
    "id": "w1BTf8THZGC-"
   },
   "source": [
    "# MSE"
   ]
  },
  {
   "cell_type": "code",
   "execution_count": null,
   "metadata": {
    "colab": {
     "base_uri": "https://localhost:8080/"
    },
    "id": "UGGMF4-KZGDA",
    "outputId": "d9ed4eb7-a5f9-499f-a185-458f7f001012"
   },
   "outputs": [],
   "source": [
    "Hyib_test_mse=mean_squared_error(y_test,y_pred_test)\n",
    "print('Mean Squared Error: ', round(Hyib_test_mse,3))"
   ]
  },
  {
   "cell_type": "markdown",
   "metadata": {
    "id": "ecIh2V5aZGDG"
   },
   "source": [
    "# MAE"
   ]
  },
  {
   "cell_type": "code",
   "execution_count": null,
   "metadata": {
    "colab": {
     "base_uri": "https://localhost:8080/"
    },
    "id": "EPewmcfSZGDJ",
    "outputId": "5153a04e-29c0-44a5-82d3-9e5c083eae89"
   },
   "outputs": [],
   "source": [
    "Hyib_test_MAE=mean_absolute_error(y_test,y_pred_test)\n",
    "print('Mean Absolute Error: ', round(Hyib_test_MAE,3))"
   ]
  },
  {
   "cell_type": "markdown",
   "metadata": {},
   "source": [
    "# Predictions and Actual Stock Price"
   ]
  },
  {
   "cell_type": "code",
   "execution_count": null,
   "metadata": {},
   "outputs": [],
   "source": [
    "a=pd.DataFrame()\n",
    "a['Actual Stock Price']=y_test\n",
    "a['Predicted Stock Price']=y_pred_test\n",
    "plt.figure(figsize=(20, 7))\n",
    "plt.subplot(1,1,1)\n",
    "plt.plot(a['Actual Stock Price'].values,color='orange',label='Actual Stock Prices')\n",
    "plt.plot(a['Predicted Stock Price'].values,color='green',label='Predicted Stock Price')\n",
    "plt.title('Comparison of actual and predicted stock prices')\n",
    "plt.xlabel('Day')\n",
    "plt.ylabel('Prices')\n",
    "plt.legend()\n",
    "plt.show()"
   ]
  },
  {
   "cell_type": "markdown",
   "metadata": {
    "id": "e5eoGsX_6Ky8"
   },
   "source": [
    "# ------------------------------------------------------------------------------------------------------"
   ]
  },
  {
   "cell_type": "markdown",
   "metadata": {
    "id": "e5eoGsX_6Ky8"
   },
   "source": [
    "# ------------------------------------------------------------------------------------------------------"
   ]
  },
  {
   "cell_type": "markdown",
   "metadata": {},
   "source": [
    "# RNN Model"
   ]
  },
  {
   "cell_type": "markdown",
   "metadata": {
    "id": "e5eoGsX_6Ky8"
   },
   "source": [
    "# ------------------------------------------------------------------------------------------------------"
   ]
  },
  {
   "cell_type": "code",
   "execution_count": null,
   "metadata": {
    "colab": {
     "base_uri": "https://localhost:8080/"
    },
    "id": "wJMDeXdGLG_M",
    "outputId": "d7f80556-39fc-4946-a30d-8e9c9ca15be4"
   },
   "outputs": [],
   "source": [
    "def RNN_model():\n",
    "    RNN = Sequential()\n",
    "    RNN.add(Dense(64,input_shape=(31,)))\n",
    "    RNN.add(Dropout(0.2))\n",
    "    RNN.add(Activation('relu'))\n",
    "    RNN.add(Dense(64))\n",
    "    RNN.add(Dropout(0.2))\n",
    "    RNN.add(Activation('relu'))\n",
    "    RNN.add(Dense(1))\n",
    "    RNN.add(Dropout(0.2))\n",
    "    RNN.add(Activation('relu'))\n",
    "    return RNN\n",
    "RNN_model=RNN_model()\n",
    "RNN_model.summary()"
   ]
  },
  {
   "cell_type": "code",
   "execution_count": null,
   "metadata": {
    "scrolled": true
   },
   "outputs": [],
   "source": [
    "RNN_model.compile(optimizer=Adam(lr=0.01), loss='mean_squared_error')\n",
    "RNN_model.fit(X_train, y_train, epochs=100, batch_size=1000)"
   ]
  },
  {
   "cell_type": "markdown",
   "metadata": {
    "id": "qkcalTi0ZGC2"
   },
   "source": [
    "### R2"
   ]
  },
  {
   "cell_type": "code",
   "execution_count": null,
   "metadata": {
    "colab": {
     "base_uri": "https://localhost:8080/"
    },
    "id": "1XrbLKYnZGC4",
    "outputId": "c0542e93-bd99-4eae-c134-5268a4e2c3fc"
   },
   "outputs": [],
   "source": [
    "y_pred_test = RNN_model.predict(X_test)\n",
    "RNN_test_rs=r2_score(y_test,y_pred_test)\n",
    "print('R Squared : ', round(RNN_test_rs,3))"
   ]
  },
  {
   "cell_type": "markdown",
   "metadata": {
    "id": "w1BTf8THZGC-"
   },
   "source": [
    "### MSE"
   ]
  },
  {
   "cell_type": "code",
   "execution_count": null,
   "metadata": {
    "colab": {
     "base_uri": "https://localhost:8080/"
    },
    "id": "UGGMF4-KZGDA",
    "outputId": "d9ed4eb7-a5f9-499f-a185-458f7f001012"
   },
   "outputs": [],
   "source": [
    "RNN_test_mse=mean_squared_error(y_test,y_pred_test)\n",
    "print('Mean Squared Error: ', round(RNN_test_mse,3))"
   ]
  },
  {
   "cell_type": "markdown",
   "metadata": {
    "id": "ecIh2V5aZGDG"
   },
   "source": [
    "### MAE"
   ]
  },
  {
   "cell_type": "code",
   "execution_count": null,
   "metadata": {
    "colab": {
     "base_uri": "https://localhost:8080/"
    },
    "id": "EPewmcfSZGDJ",
    "outputId": "5153a04e-29c0-44a5-82d3-9e5c083eae89"
   },
   "outputs": [],
   "source": [
    "RNN_test_MAE=mean_absolute_error(y_test,y_pred_test)\n",
    "print('Mean Absolute Error: ', round(RNN_test_MAE,3))"
   ]
  },
  {
   "cell_type": "markdown",
   "metadata": {},
   "source": [
    "# Predictions and Actual Stock Price"
   ]
  },
  {
   "cell_type": "code",
   "execution_count": null,
   "metadata": {},
   "outputs": [],
   "source": [
    "a=pd.DataFrame()\n",
    "a['Actual Stock Price']=y_test\n",
    "a['Predicted Stock Price']=y_pred_test\n",
    "plt.figure(figsize=(20, 7))\n",
    "plt.subplot(1,1,1)\n",
    "plt.plot(a['Actual Stock Price'].values,color='orange',label='Actual Stock Prices')\n",
    "plt.plot(a['Predicted Stock Price'].values,color='red',label='Predicted Stock Price')\n",
    "plt.title('Comparison of actual and predicted stock prices')\n",
    "plt.xlabel('Day')\n",
    "plt.ylabel('Prices')\n",
    "plt.legend()\n",
    "plt.show()"
   ]
  },
  {
   "cell_type": "markdown",
   "metadata": {},
   "source": [
    "# ------------------------------------------------------------------------------------------------------"
   ]
  },
  {
   "cell_type": "markdown",
   "metadata": {},
   "source": [
    "# Comparison of all algorithms Results on R2 score"
   ]
  },
  {
   "cell_type": "code",
   "execution_count": null,
   "metadata": {
    "scrolled": true
   },
   "outputs": [],
   "source": [
    "x = PrettyTable()\n",
    "print('\\n')\n",
    "print(\"Comparison of all algorithms\")\n",
    "x.field_names = [\"Model\", \"R2 Score\"]\n",
    "\n",
    "\n",
    "x.add_row([\"Random Forest Algorithm\", round(rf_test_rs,3)])\n",
    "x.add_row([\"XGB Algorithm\",  round(xgb_test_rs,3)])\n",
    "x.add_row([\"Ensemble Learning Algorithm\",  round(Hyib_test_rs,3)])\n",
    "x.add_row([\"Neural Network Model\", round(RNN_test_rs,3)])\n",
    "\n",
    "\n",
    "print(x)\n",
    "print('\\n')"
   ]
  },
  {
   "cell_type": "markdown",
   "metadata": {},
   "source": [
    "# Comparison of all algorithms Results on MSE score"
   ]
  },
  {
   "cell_type": "code",
   "execution_count": null,
   "metadata": {
    "scrolled": true
   },
   "outputs": [],
   "source": [
    "x = PrettyTable()\n",
    "print('\\n')\n",
    "print(\"Comparison of all algorithms\")\n",
    "x.field_names = [\"Model\", \"MSE score\"]\n",
    "\n",
    "\n",
    "x.add_row([\"Random Forest Algorithm\", round(rf_test_mse,3)])\n",
    "x.add_row([\"XGB Algorithm\",  round(XGB_test_mse,3)])\n",
    "x.add_row([\"Ensemble Learning Algorithm\",  round(Hyib_test_mse,3)])\n",
    "x.add_row([\"Neural Network Model\", round(RNN_test_mse,3)])\n",
    "\n",
    "\n",
    "print(x)\n",
    "print('\\n')"
   ]
  },
  {
   "cell_type": "markdown",
   "metadata": {},
   "source": [
    "# Comparison of all algorithms Results on MAE score"
   ]
  },
  {
   "cell_type": "code",
   "execution_count": null,
   "metadata": {
    "scrolled": true
   },
   "outputs": [],
   "source": [
    "x = PrettyTable()\n",
    "print('\\n')\n",
    "print(\"Comparison of all algorithms\")\n",
    "x.field_names = [\"Model\", \"MAE score\"]\n",
    "\n",
    "\n",
    "x.add_row([\"Random Forest Algorithm\", round(rf_test_MAE,3)])\n",
    "x.add_row([\"XGB Algorithm\",  round(XGB_test_MAE,3)])\n",
    "x.add_row([\"Ensemble Learning Model\",  round(Hyib_test_MAE,3)])\n",
    "x.add_row([\"Neural Network Model\", round(RNN_test_MAE,3)])\n",
    "\n",
    "print(x)\n",
    "print('\\n')"
   ]
  },
  {
   "cell_type": "markdown",
   "metadata": {},
   "source": [
    "# Graph of MSE of each algorithm"
   ]
  },
  {
   "cell_type": "code",
   "execution_count": null,
   "metadata": {},
   "outputs": [],
   "source": [
    "Result_Comp = pd.DataFrame({'Algorithm':['Random Forest'], 'mean Sequared error (MSE)': [rf_test_mse]})\n",
    "Result_Comp1 = pd.DataFrame({'Algorithm':['XGB'], 'mean Sequared error (MSE)': [XGB_test_mse]})\n",
    "Result_Comp2 = pd.DataFrame({'Algorithm':['Ensemble Learning'], 'mean Sequared error (MSE)': [Hyib_test_mse]})\n",
    "Result_Comp3 = pd.DataFrame({'Algorithm':['Neural Network'], 'mean Sequared error (MSE)': [RNN_test_mse]})\n",
    "\n",
    "Result_Comp = pd.concat([Result_Comp, Result_Comp1,Result_Comp2,Result_Comp3])\n",
    "Result_Comp.set_index(\"Algorithm\",drop=True,inplace=True)\n",
    "color = cm.inferno_r(np.linspace(.2, .4, 6))\n",
    "Result_Comp.plot(kind='bar',figsize=(6, 4),stacked=True, color=color, legend=True)"
   ]
  },
  {
   "cell_type": "markdown",
   "metadata": {},
   "source": [
    "# Graph of R2 of each algorithm"
   ]
  },
  {
   "cell_type": "code",
   "execution_count": null,
   "metadata": {},
   "outputs": [],
   "source": [
    "Result_Comp = pd.DataFrame({'Algorithm':['Random Forest'], 'R2 sequared': [rf_test_rs]})\n",
    "Result_Comp1 = pd.DataFrame({'Algorithm':['XGB'], 'R2 sequared': [xgb_test_rs]})\n",
    "Result_Comp2 = pd.DataFrame({'Algorithm':['Ensemble Learning'], 'R2 sequared': [Hyib_test_rs]})\n",
    "Result_Comp3 = pd.DataFrame({'Algorithm':['Neural Network'], 'R2 sequared': [RNN_test_rs]})\n",
    "\n",
    "Result_Comp = pd.concat([Result_Comp, Result_Comp1,Result_Comp2,Result_Comp3])\n",
    "Result_Comp.set_index(\"Algorithm\",drop=True,inplace=True)\n",
    "color = cm.inferno_r(np.linspace(0.8, 0.5, 2))\n",
    "Result_Comp.plot(kind='bar', figsize=(6, 4),color=color)"
   ]
  },
  {
   "cell_type": "markdown",
   "metadata": {},
   "source": [
    "# Graph of MAE of each algorithm"
   ]
  },
  {
   "cell_type": "code",
   "execution_count": null,
   "metadata": {},
   "outputs": [],
   "source": [
    "Result_Comp = pd.DataFrame({'Algorithm':['Random Forest'],'mean absolute error (MAE)': [rf_test_MAE]})\n",
    "Result_Comp1 = pd.DataFrame({'Algorithm':['XGB'], 'mean absolute error (MAE)': [XGB_test_MAE]})\n",
    "Result_Comp2 = pd.DataFrame({'Algorithm':['Ensemble Learning'], 'mean absolute error (MAE)': [Hyib_test_MAE]})\n",
    "Result_Comp3 = pd.DataFrame({'Algorithm':['Neural Network'], 'mean absolute error (MAE)': [RNN_test_MAE]})\n",
    "\n",
    "Result_Comp = pd.concat([Result_Comp, Result_Comp1,Result_Comp2,Result_Comp3])\n",
    "Result_Comp.set_index(\"Algorithm\",drop=True,inplace=True)\n",
    "color = cm.inferno_r(np.linspace(0.5, 0.2, 7))\n",
    "Result_Comp.plot(kind='bar', figsize=(6, 4),color=color)"
   ]
  },
  {
   "cell_type": "markdown",
   "metadata": {},
   "source": [
    "# ------------------------------------------------------------------------------------------------------"
   ]
  },
  {
   "cell_type": "markdown",
   "metadata": {},
   "source": [
    "# ------------------------------------------------------------------------------------------------------"
   ]
  },
  {
   "cell_type": "markdown",
   "metadata": {},
   "source": [
    "# ------------------------------------------------------------------------------------------------------"
   ]
  },
  {
   "cell_type": "markdown",
   "metadata": {
    "_uuid": "c884eb324781892140edb4876c536be33bf09de6"
   },
   "source": [
    "# Time-Series Analysis per Store Type"
   ]
  },
  {
   "cell_type": "markdown",
   "metadata": {
    "_uuid": "fcea90a58becab4088bfd8610b505230c53a5d1c"
   },
   "source": [
    "### Seasonality of Close price"
   ]
  },
  {
   "cell_type": "code",
   "execution_count": null,
   "metadata": {
    "_uuid": "17337869fcf192c4a973d8638eca1bf1149d8cbd"
   },
   "outputs": [],
   "source": [
    "data['Close'] = data['Close'] * 1.0\n",
    "close_1 = data['Close']\n",
    "f, (ax1) = plt.subplots(1, figsize = (12, 6))\n",
    "c = '#386B7F'\n",
    "close_1.resample('W').sum().plot(color = c, ax = ax1)"
   ]
  },
  {
   "cell_type": "markdown",
   "metadata": {
    "_uuid": "505858801c9d35bf72aac99ace1305fe85b8b59b"
   },
   "source": [
    "### Stationarize the Close price data"
   ]
  },
  {
   "cell_type": "code",
   "execution_count": null,
   "metadata": {
    "_uuid": "b949457be57d4ab6787604b9561a70506ec2545f"
   },
   "outputs": [],
   "source": [
    "def test_stationarity(timeseries, window = 12, cutoff = 0.01):\n",
    "    rolmean = timeseries.rolling(window).mean()\n",
    "    rolstd = timeseries.rolling(window).std()\n",
    "    fig = plt.figure(figsize=(12, 8))\n",
    "    orig = plt.plot(timeseries, color='blue',label='Original')\n",
    "    mean = plt.plot(rolmean, color='red', label='Rolling Mean')\n",
    "    std = plt.plot(rolstd, color='black', label = 'Rolling Std')\n",
    "    plt.legend(loc='best')\n",
    "    plt.title('Rolling Mean & Standard Deviation')\n",
    "    plt.show()\n",
    "    print('Results of Dickey-Fuller Test:')\n",
    "    dftest = adfuller(timeseries, autolag='AIC', maxlag = 20 )\n",
    "    dfoutput = pd.Series(dftest[0:4], index=['Test Statistic','p-value','#Lags Used','Number of Observations Used'])\n",
    "    for key,value in dftest[4].items():\n",
    "        dfoutput['Critical Value (%s)'%key] = value\n",
    "    pvalue = dftest[1]\n",
    "    if pvalue < cutoff:\n",
    "        print('p-value = %.4f. The series is likely stationary.' % pvalue)\n",
    "    else:\n",
    "        print('p-value = %.4f. The series is likely non-stationary.' % pvalue)\n",
    "    \n",
    "    print(dfoutput)"
   ]
  },
  {
   "cell_type": "code",
   "execution_count": null,
   "metadata": {
    "_uuid": "30423770007650c75b8b01d559693344c953ee43"
   },
   "outputs": [],
   "source": [
    "def residual_plot(model):\n",
    "    resid = model.resid\n",
    "    print(normaltest(resid))\n",
    "    fig = plt.figure(figsize=(12,8))\n",
    "    ax0 = fig.add_subplot(111)\n",
    "    sns.distplot(resid ,fit = stats.norm, ax = ax0)\n",
    "    (mu, sigma) = stats.norm.fit(resid)\n",
    "    plt.legend(['Normal dist. ($\\mu=$ {:.2f} and $\\sigma=$ {:.2f} )'.format(mu, sigma)], loc='best')\n",
    "    plt.ylabel('Frequency')\n",
    "    plt.title('Residual distribution')\n",
    "    fig = plt.figure(figsize=(12,8))\n",
    "    ax1 = fig.add_subplot(211)\n",
    "    fig = sm.graphics.tsa.plot_acf(model.resid, lags=40, ax=ax1)\n",
    "    ax2 = fig.add_subplot(212)\n",
    "    fig = sm.graphics.tsa.plot_pacf(model.resid, lags=40, ax=ax2)"
   ]
  },
  {
   "cell_type": "markdown",
   "metadata": {},
   "source": [
    "### Close price with rolling windows"
   ]
  },
  {
   "cell_type": "code",
   "execution_count": null,
   "metadata": {
    "_uuid": "81807ffd06a99095c63f273875d739c48e72fa53"
   },
   "outputs": [],
   "source": [
    "test_stationarity(close_1)"
   ]
  },
  {
   "cell_type": "markdown",
   "metadata": {
    "_uuid": "4c95908e946390144098916245209765cb2eea56"
   },
   "source": [
    "We are going to make data as stationary. So we want to do is take a first difference of the data and it will help to eliminate the overall trend from the data."
   ]
  },
  {
   "cell_type": "code",
   "execution_count": null,
   "metadata": {
    "_uuid": "66da4c259e5f8d3c685a1a866554e2ad51194c45"
   },
   "outputs": [],
   "source": [
    "first_diff_a = close_1 - close_1.shift(1)\n",
    "first_diff_a = first_diff_a.dropna(inplace = False)\n",
    "test_stationarity(first_diff_a, window = 12)"
   ]
  },
  {
   "cell_type": "markdown",
   "metadata": {
    "_uuid": "974ae9df32f4554f5b43172947abc1605ca83734"
   },
   "source": [
    "### Plots of ACF and PACF"
   ]
  },
  {
   "cell_type": "code",
   "execution_count": null,
   "metadata": {
    "_uuid": "6bb62a22a366c45e597bef67091482e14e122a26"
   },
   "outputs": [],
   "source": [
    "plt.figure(figsize = (12, 8))\n",
    "plt.subplot(421); plot_acf(close_1, lags = 50, ax = plt.gca(), color = c)\n",
    "plt.subplot(422); plot_pacf(close_1, lags = 50, ax = plt.gca(), color = c)"
   ]
  },
  {
   "cell_type": "markdown",
   "metadata": {},
   "source": [
    "### Sarima Model"
   ]
  },
  {
   "cell_type": "code",
   "execution_count": null,
   "metadata": {
    "_uuid": "1df8d074fe2aa4cd275d138dd986b98aea337ba0"
   },
   "outputs": [],
   "source": [
    "arima_mod = sm.tsa.ARIMA(close_1, (11,1,0)).fit(disp=False)\n",
    "print(arima_mod.summary())"
   ]
  },
  {
   "cell_type": "code",
   "execution_count": null,
   "metadata": {
    "_uuid": "b56efc27d87a0f4c1a198f0baa5852ddac17c9c2"
   },
   "outputs": [],
   "source": [
    "residual_plot(arima_mod)"
   ]
  },
  {
   "cell_type": "markdown",
   "metadata": {},
   "source": [
    "### SARIMA Model"
   ]
  },
  {
   "cell_type": "code",
   "execution_count": null,
   "metadata": {
    "_uuid": "9af1ece0292b47f5671dfe2f5c57dfd3199d9575"
   },
   "outputs": [],
   "source": [
    "sarima_mod = sm.tsa.statespace.SARIMAX(close_1, trend='n', order=(11,1,0), seasonal_order=(2,1,0,12)).fit()\n",
    "print(sarima_mod.summary())"
   ]
  },
  {
   "cell_type": "code",
   "execution_count": null,
   "metadata": {
    "_uuid": "dd75ce337b8702fc3ee19bf413f28b680f76d4f7"
   },
   "outputs": [],
   "source": [
    "residual_plot(sarima_mod)"
   ]
  },
  {
   "cell_type": "markdown",
   "metadata": {},
   "source": [
    "# In progress . . . "
   ]
  }
 ],
 "metadata": {
  "colab": {
   "collapsed_sections": [
    "46nKYFnh6KyZ",
    "xyTxPgGq6Kya",
    "e5eoGsX_6Ky8"
   ],
   "name": "code_all.ipynb",
   "provenance": []
  },
  "kernelspec": {
   "display_name": "Python 3",
   "language": "python",
   "name": "python3"
  },
  "language_info": {
   "codemirror_mode": {
    "name": "ipython",
    "version": 3
   },
   "file_extension": ".py",
   "mimetype": "text/x-python",
   "name": "python",
   "nbconvert_exporter": "python",
   "pygments_lexer": "ipython3",
   "version": "3.8.5"
  }
 },
 "nbformat": 4,
 "nbformat_minor": 1
}
