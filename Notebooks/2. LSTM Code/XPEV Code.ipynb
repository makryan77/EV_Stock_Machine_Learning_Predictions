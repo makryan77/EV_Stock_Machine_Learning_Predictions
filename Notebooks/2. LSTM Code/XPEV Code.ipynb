{
 "cells": [
  {
   "cell_type": "markdown",
   "metadata": {
    "id": "1UukvdNl6KwR"
   },
   "source": [
    "# Importing Python libraries"
   ]
  },
  {
   "cell_type": "code",
   "execution_count": 1,
   "metadata": {
    "id": "R8OC-FfI6KwS"
   },
   "outputs": [],
   "source": [
    "import numpy as np \n",
    "import pandas as pd \n",
    "import seaborn as sns \n",
    "from matplotlib import cm\n",
    "import matplotlib.pyplot as plt\n",
    "from sklearn.metrics import mean_squared_error\n",
    "from sklearn.metrics import mean_absolute_error\n",
    "from plotly.subplots import make_subplots\n",
    "from plotly.offline import download_plotlyjs, init_notebook_mode, plot, iplot\n",
    "from sklearn.preprocessing import MinMaxScaler   ## For scaling the data\n",
    "from keras.models import Sequential, load_model\n",
    "from keras.layers import LSTM, Dense, Dropout   ## importing layers of Neural network\n",
    "from keras.callbacks import ModelCheckpoint     ## imporing modelcheck pointer\n",
    "from keras.losses import MSE                  ## importing error function\n",
    "from keras.optimizers import Adam              ## importing optimizer\n",
    "from keras.activations import relu           ## importing activation function\n",
    "\n",
    "\n",
    "\n",
    "import warnings\n",
    "warnings.filterwarnings(\"ignore\")"
   ]
  },
  {
   "cell_type": "markdown",
   "metadata": {
    "id": "_jevl2Ctmq-e",
    "papermill": {
     "duration": 0.065466,
     "end_time": "2020-11-30T07:38:51.578836",
     "exception": false,
     "start_time": "2020-11-30T07:38:51.513370",
     "status": "completed"
    },
    "tags": []
   },
   "source": [
    "<div class=\"alert alert-block alert-success\">  \n",
    "    <h6>\"</h6>\n",
    "    <h6>\"</h6>\n",
    "    <h6>\"</h6>\n",
    "    <h6>\"</h6>\n",
    "    <h6>\"</h6>\n",
    "<h1><center><strong> XPEV Stock</strong></center></h1>\n",
    "    <h6>\"</h6>\n",
    "    <h6>\"</h6>\n",
    "    <h6>\"</h6>\n",
    "    <h6>\"</h6>\n",
    "    <h6>\"</h6>\n",
    "        \n",
    "</div>"
   ]
  },
  {
   "cell_type": "markdown",
   "metadata": {
    "id": "8Zdt4_b66KwZ"
   },
   "source": [
    "# Loading dataset"
   ]
  },
  {
   "cell_type": "code",
   "execution_count": 2,
   "metadata": {
    "id": "CqnqqpRqmq-n"
   },
   "outputs": [],
   "source": [
    "data = pd.read_csv('XPEV_Stock.csv')"
   ]
  },
  {
   "cell_type": "markdown",
   "metadata": {
    "id": "ZbgRood-mq_V"
   },
   "source": [
    "# -----------------------------------------------------------------------------------------------------------"
   ]
  },
  {
   "cell_type": "markdown",
   "metadata": {
    "id": "GdovkV07mq_W"
   },
   "source": [
    "<h1><center> Modelling LSTM</center></h1>"
   ]
  },
  {
   "cell_type": "markdown",
   "metadata": {
    "id": "LcopGQr1mq_W"
   },
   "source": [
    "# -----------------------------------------------------------------------------------------------------------"
   ]
  },
  {
   "cell_type": "markdown",
   "metadata": {
    "id": "3OkfFJTimq_X"
   },
   "source": [
    "# Selecting the Close price"
   ]
  },
  {
   "cell_type": "code",
   "execution_count": 3,
   "metadata": {
    "colab": {
     "base_uri": "https://localhost:8080/"
    },
    "id": "vc34SP6Nmq_Z",
    "outputId": "0bd626f3-9e65-47c9-f957-ca6329104140"
   },
   "outputs": [
    {
     "name": "stdout",
     "output_type": "stream",
     "text": [
      "Total No. of days of Stock : 231\n"
     ]
    }
   ],
   "source": [
    "df = data['Close'].values\n",
    "print(\"Total No. of days of Stock :\",df.shape[0])"
   ]
  },
  {
   "cell_type": "markdown",
   "metadata": {
    "id": "lM6OioDcmq_Z"
   },
   "source": [
    "### Splitting the data into train test split"
   ]
  },
  {
   "cell_type": "code",
   "execution_count": 4,
   "metadata": {
    "colab": {
     "base_uri": "https://localhost:8080/"
    },
    "id": "CrqY1Yepmq_Z",
    "outputId": "df8c1e82-ea98-4fc4-d881-c59685ed8f1c"
   },
   "outputs": [
    {
     "name": "stdout",
     "output_type": "stream",
     "text": [
      "Training stock : 184 days\n",
      "Test stock : 97 days\n"
     ]
    }
   ],
   "source": [
    "dataset_train = np.array(df[:int(df.shape[0]*0.8)])\n",
    "dataset_test = np.array(df[int(df.shape[0]*0.8)-50:])\n",
    "print('Training stock :',dataset_train.shape[0],'days')\n",
    "print('Test stock :',dataset_test.shape[0],'days')"
   ]
  },
  {
   "cell_type": "markdown",
   "metadata": {
    "id": "Df2dcQm8mq_a"
   },
   "source": [
    "#### Scaling the data"
   ]
  },
  {
   "cell_type": "markdown",
   "metadata": {
    "id": "wX1nKrrRmq_a"
   },
   "source": [
    "a) Train Data"
   ]
  },
  {
   "cell_type": "code",
   "execution_count": 5,
   "metadata": {
    "id": "wXJ804oGmq_a"
   },
   "outputs": [],
   "source": [
    "scaler = MinMaxScaler(feature_range=(0,1))\n",
    "dataset_train = scaler.fit_transform(dataset_train.reshape(-1, 1))\n"
   ]
  },
  {
   "cell_type": "markdown",
   "metadata": {
    "id": "I9o5tKvgmq_a"
   },
   "source": [
    "b) Test Data"
   ]
  },
  {
   "cell_type": "code",
   "execution_count": 6,
   "metadata": {
    "id": "ELCaDCJ8mq_a",
    "scrolled": true
   },
   "outputs": [],
   "source": [
    "dataset_test = scaler.transform(dataset_test.reshape(-1, 1))\n"
   ]
  },
  {
   "cell_type": "markdown",
   "metadata": {
    "id": "pVxaF3HRmq_a"
   },
   "source": [
    "### Function to prepare data for the LSTM"
   ]
  },
  {
   "cell_type": "code",
   "execution_count": 7,
   "metadata": {
    "id": "azFbAm9Imq_b"
   },
   "outputs": [],
   "source": [
    "def create_dataset(df,n):\n",
    "    x = []\n",
    "    y = []\n",
    "  \n",
    "    for i in range(n, df.shape[0]):\n",
    "        x.append(df[i-n:i, 0])\n",
    "        y.append(df[i, 0])\n",
    "    x = np.array(x)\n",
    "    y = np.array(y)\n",
    "    return x,y "
   ]
  },
  {
   "cell_type": "code",
   "execution_count": 8,
   "metadata": {
    "id": "c6tuWoRumq_b"
   },
   "outputs": [],
   "source": [
    "x_train, y_train = create_dataset(dataset_train,50)\n"
   ]
  },
  {
   "cell_type": "code",
   "execution_count": 9,
   "metadata": {
    "id": "K26oZGKEmq_b"
   },
   "outputs": [],
   "source": [
    "x_test, y_test = create_dataset(dataset_test,50)\n"
   ]
  },
  {
   "cell_type": "markdown",
   "metadata": {
    "id": "WkbBIfiGmq_b"
   },
   "source": [
    "#### Reshape features for LSTM Layer"
   ]
  },
  {
   "cell_type": "code",
   "execution_count": 10,
   "metadata": {
    "id": "ZFj52Mwtmq_c"
   },
   "outputs": [],
   "source": [
    "x_train = x_train.reshape(x_train.shape[0], x_train.shape[1], 1)\n",
    "x_test = x_test.reshape(x_test.shape[0], x_test.shape[1], 1)"
   ]
  },
  {
   "cell_type": "code",
   "execution_count": 11,
   "metadata": {
    "colab": {
     "base_uri": "https://localhost:8080/"
    },
    "id": "BqspgZXVmq_c",
    "outputId": "6487c5f8-8207-400c-b76d-604a92c809fe"
   },
   "outputs": [
    {
     "name": "stdout",
     "output_type": "stream",
     "text": [
      "Training data shape (134, 50, 1)\n",
      "Test data shape (47, 50, 1)\n"
     ]
    }
   ],
   "source": [
    "print('Training data shape',x_train.shape)\n",
    "print('Test data shape',x_test.shape)\n"
   ]
  },
  {
   "cell_type": "markdown",
   "metadata": {
    "id": "PuZnTpF9mq_c"
   },
   "source": [
    "# Building LSTM Model"
   ]
  },
  {
   "cell_type": "code",
   "execution_count": 12,
   "metadata": {
    "id": "KPcxXAO0mq_c"
   },
   "outputs": [],
   "source": [
    "model = Sequential()\n",
    "\n",
    "model.add(LSTM(units=96, \n",
    "               return_sequences=True,\n",
    "               input_shape=(x_train.shape[1], 1)))\n",
    "\n",
    "model.add(Dropout(0.2))\n",
    "\n",
    "model.add(LSTM(units=96, \n",
    "               return_sequences=True))\n",
    "\n",
    "model.add(Dropout(0.2))\n",
    "\n",
    "model.add(LSTM(units=96, \n",
    "               return_sequences=True))\n",
    "\n",
    "model.add(Dropout(0.2))\n",
    "\n",
    "model.add(LSTM(units=96))\n",
    "\n",
    "model.add(Dropout(0.2))\n",
    "\n",
    "model.add(Dense(units=1))"
   ]
  },
  {
   "cell_type": "code",
   "execution_count": 13,
   "metadata": {
    "colab": {
     "base_uri": "https://localhost:8080/"
    },
    "id": "CM4amP5emq_d",
    "outputId": "c506acdf-91d3-4345-99b7-ad9220c0c4d0"
   },
   "outputs": [
    {
     "name": "stdout",
     "output_type": "stream",
     "text": [
      "Model: \"sequential\"\n",
      "_________________________________________________________________\n",
      "Layer (type)                 Output Shape              Param #   \n",
      "=================================================================\n",
      "lstm (LSTM)                  (None, 50, 96)            37632     \n",
      "_________________________________________________________________\n",
      "dropout (Dropout)            (None, 50, 96)            0         \n",
      "_________________________________________________________________\n",
      "lstm_1 (LSTM)                (None, 50, 96)            74112     \n",
      "_________________________________________________________________\n",
      "dropout_1 (Dropout)          (None, 50, 96)            0         \n",
      "_________________________________________________________________\n",
      "lstm_2 (LSTM)                (None, 50, 96)            74112     \n",
      "_________________________________________________________________\n",
      "dropout_2 (Dropout)          (None, 50, 96)            0         \n",
      "_________________________________________________________________\n",
      "lstm_3 (LSTM)                (None, 96)                74112     \n",
      "_________________________________________________________________\n",
      "dropout_3 (Dropout)          (None, 96)                0         \n",
      "_________________________________________________________________\n",
      "dense (Dense)                (None, 1)                 97        \n",
      "=================================================================\n",
      "Total params: 260,065\n",
      "Trainable params: 260,065\n",
      "Non-trainable params: 0\n",
      "_________________________________________________________________\n"
     ]
    }
   ],
   "source": [
    "model.summary()"
   ]
  },
  {
   "cell_type": "code",
   "execution_count": 14,
   "metadata": {
    "id": "bwmZvHKsmq_d"
   },
   "outputs": [],
   "source": [
    "model.compile(loss=MSE, optimizer=Adam())"
   ]
  },
  {
   "cell_type": "code",
   "execution_count": 15,
   "metadata": {
    "id": "QS8OIEO_mq_d"
   },
   "outputs": [],
   "source": [
    "checkpointer = ModelCheckpoint(filepath='nio.stock_prediction.hdf5',save_best_only=True,verbose=1)\n",
    "callbacks = [checkpointer]"
   ]
  },
  {
   "cell_type": "code",
   "execution_count": 16,
   "metadata": {
    "colab": {
     "base_uri": "https://localhost:8080/"
    },
    "id": "i1p95yP1mq_d",
    "outputId": "383136cf-40a7-4320-82e4-7ccd9ad54c21",
    "scrolled": false
   },
   "outputs": [
    {
     "name": "stdout",
     "output_type": "stream",
     "text": [
      "Epoch 1/70\n",
      "4/4 [==============================] - ETA: 0s - loss: 0.1140\n",
      "Epoch 00001: val_loss improved from inf to 0.07763, saving model to nio.stock_prediction.hdf5\n",
      "4/4 [==============================] - 3s 811ms/step - loss: 0.1140 - val_loss: 0.0776\n",
      "Epoch 2/70\n",
      "4/4 [==============================] - ETA: 0s - loss: 0.0453\n",
      "Epoch 00002: val_loss improved from 0.07763 to 0.00644, saving model to nio.stock_prediction.hdf5\n",
      "4/4 [==============================] - 1s 156ms/step - loss: 0.0453 - val_loss: 0.0064\n",
      "Epoch 3/70\n",
      "4/4 [==============================] - ETA: 0s - loss: 0.0401\n",
      "Epoch 00003: val_loss did not improve from 0.00644\n",
      "4/4 [==============================] - 1s 129ms/step - loss: 0.0401 - val_loss: 0.0356\n",
      "Epoch 4/70\n",
      "4/4 [==============================] - ETA: 0s - loss: 0.0335\n",
      "Epoch 00004: val_loss did not improve from 0.00644\n",
      "4/4 [==============================] - 1s 147ms/step - loss: 0.0335 - val_loss: 0.0416\n",
      "Epoch 5/70\n",
      "4/4 [==============================] - ETA: 0s - loss: 0.0301\n",
      "Epoch 00005: val_loss did not improve from 0.00644\n",
      "4/4 [==============================] - 1s 165ms/step - loss: 0.0301 - val_loss: 0.0221\n",
      "Epoch 6/70\n",
      "4/4 [==============================] - ETA: 0s - loss: 0.0274\n",
      "Epoch 00006: val_loss did not improve from 0.00644\n",
      "4/4 [==============================] - 1s 148ms/step - loss: 0.0274 - val_loss: 0.0326\n",
      "Epoch 7/70\n",
      "4/4 [==============================] - ETA: 0s - loss: 0.0238\n",
      "Epoch 00007: val_loss did not improve from 0.00644\n",
      "4/4 [==============================] - 1s 143ms/step - loss: 0.0238 - val_loss: 0.0451\n",
      "Epoch 8/70\n",
      "4/4 [==============================] - ETA: 0s - loss: 0.0239\n",
      "Epoch 00008: val_loss did not improve from 0.00644\n",
      "4/4 [==============================] - 1s 188ms/step - loss: 0.0239 - val_loss: 0.0301\n",
      "Epoch 9/70\n",
      "4/4 [==============================] - ETA: 0s - loss: 0.0221\n",
      "Epoch 00009: val_loss did not improve from 0.00644\n",
      "4/4 [==============================] - 1s 176ms/step - loss: 0.0221 - val_loss: 0.0330\n",
      "Epoch 10/70\n",
      "4/4 [==============================] - ETA: 0s - loss: 0.0208\n",
      "Epoch 00010: val_loss did not improve from 0.00644\n",
      "4/4 [==============================] - 1s 273ms/step - loss: 0.0208 - val_loss: 0.0342\n",
      "Epoch 11/70\n",
      "4/4 [==============================] - ETA: 0s - loss: 0.0223\n",
      "Epoch 00011: val_loss did not improve from 0.00644\n",
      "4/4 [==============================] - 1s 196ms/step - loss: 0.0223 - val_loss: 0.0263\n",
      "Epoch 12/70\n",
      "4/4 [==============================] - ETA: 0s - loss: 0.0186\n",
      "Epoch 00012: val_loss did not improve from 0.00644\n",
      "4/4 [==============================] - 1s 223ms/step - loss: 0.0186 - val_loss: 0.0285\n",
      "Epoch 13/70\n",
      "4/4 [==============================] - ETA: 0s - loss: 0.0183\n",
      "Epoch 00013: val_loss did not improve from 0.00644\n",
      "4/4 [==============================] - 1s 237ms/step - loss: 0.0183 - val_loss: 0.0249\n",
      "Epoch 14/70\n",
      "4/4 [==============================] - ETA: 0s - loss: 0.0189\n",
      "Epoch 00014: val_loss did not improve from 0.00644\n",
      "4/4 [==============================] - 1s 222ms/step - loss: 0.0189 - val_loss: 0.0297\n",
      "Epoch 15/70\n",
      "4/4 [==============================] - ETA: 0s - loss: 0.0173\n",
      "Epoch 00015: val_loss did not improve from 0.00644\n",
      "4/4 [==============================] - 1s 213ms/step - loss: 0.0173 - val_loss: 0.0218\n",
      "Epoch 16/70\n",
      "4/4 [==============================] - ETA: 0s - loss: 0.0154\n",
      "Epoch 00016: val_loss did not improve from 0.00644\n",
      "4/4 [==============================] - 1s 197ms/step - loss: 0.0154 - val_loss: 0.0227\n",
      "Epoch 17/70\n",
      "4/4 [==============================] - ETA: 0s - loss: 0.0164\n",
      "Epoch 00017: val_loss did not improve from 0.00644\n",
      "4/4 [==============================] - 1s 251ms/step - loss: 0.0164 - val_loss: 0.0218\n",
      "Epoch 18/70\n",
      "4/4 [==============================] - ETA: 0s - loss: 0.0172\n",
      "Epoch 00018: val_loss did not improve from 0.00644\n",
      "4/4 [==============================] - 1s 199ms/step - loss: 0.0172 - val_loss: 0.0229\n",
      "Epoch 19/70\n",
      "4/4 [==============================] - ETA: 0s - loss: 0.0154\n",
      "Epoch 00019: val_loss did not improve from 0.00644\n",
      "4/4 [==============================] - 1s 178ms/step - loss: 0.0154 - val_loss: 0.0160\n",
      "Epoch 20/70\n",
      "4/4 [==============================] - ETA: 0s - loss: 0.0151\n",
      "Epoch 00020: val_loss did not improve from 0.00644\n",
      "4/4 [==============================] - 1s 178ms/step - loss: 0.0151 - val_loss: 0.0195\n",
      "Epoch 21/70\n",
      "4/4 [==============================] - ETA: 0s - loss: 0.0162\n",
      "Epoch 00021: val_loss did not improve from 0.00644\n",
      "4/4 [==============================] - 1s 209ms/step - loss: 0.0162 - val_loss: 0.0081\n",
      "Epoch 22/70\n",
      "4/4 [==============================] - ETA: 0s - loss: 0.0153\n",
      "Epoch 00022: val_loss did not improve from 0.00644\n",
      "4/4 [==============================] - 1s 222ms/step - loss: 0.0153 - val_loss: 0.0186\n",
      "Epoch 23/70\n",
      "4/4 [==============================] - ETA: 0s - loss: 0.0154\n",
      "Epoch 00023: val_loss did not improve from 0.00644\n",
      "4/4 [==============================] - 1s 188ms/step - loss: 0.0154 - val_loss: 0.0113\n",
      "Epoch 24/70\n",
      "4/4 [==============================] - ETA: 0s - loss: 0.0139\n",
      "Epoch 00024: val_loss did not improve from 0.00644\n",
      "4/4 [==============================] - 1s 162ms/step - loss: 0.0139 - val_loss: 0.0153\n",
      "Epoch 25/70\n",
      "4/4 [==============================] - ETA: 0s - loss: 0.0146\n",
      "Epoch 00025: val_loss did not improve from 0.00644\n",
      "4/4 [==============================] - 1s 172ms/step - loss: 0.0146 - val_loss: 0.0126\n",
      "Epoch 26/70\n",
      "4/4 [==============================] - ETA: 0s - loss: 0.0158\n",
      "Epoch 00026: val_loss did not improve from 0.00644\n",
      "4/4 [==============================] - 1s 167ms/step - loss: 0.0158 - val_loss: 0.0142\n",
      "Epoch 27/70\n",
      "4/4 [==============================] - ETA: 0s - loss: 0.0135\n",
      "Epoch 00027: val_loss improved from 0.00644 to 0.00641, saving model to nio.stock_prediction.hdf5\n",
      "4/4 [==============================] - 1s 192ms/step - loss: 0.0135 - val_loss: 0.0064\n",
      "Epoch 28/70\n",
      "4/4 [==============================] - ETA: 0s - loss: 0.0143\n",
      "Epoch 00028: val_loss did not improve from 0.00641\n",
      "4/4 [==============================] - 1s 160ms/step - loss: 0.0143 - val_loss: 0.0108\n",
      "Epoch 29/70\n",
      "4/4 [==============================] - ETA: 0s - loss: 0.0131\n",
      "Epoch 00029: val_loss improved from 0.00641 to 0.00576, saving model to nio.stock_prediction.hdf5\n",
      "4/4 [==============================] - 1s 184ms/step - loss: 0.0131 - val_loss: 0.0058\n",
      "Epoch 30/70\n",
      "4/4 [==============================] - ETA: 0s - loss: 0.0143\n",
      "Epoch 00030: val_loss did not improve from 0.00576\n",
      "4/4 [==============================] - 1s 174ms/step - loss: 0.0143 - val_loss: 0.0112\n",
      "Epoch 31/70\n",
      "4/4 [==============================] - ETA: 0s - loss: 0.0119\n",
      "Epoch 00031: val_loss improved from 0.00576 to 0.00499, saving model to nio.stock_prediction.hdf5\n",
      "4/4 [==============================] - 1s 185ms/step - loss: 0.0119 - val_loss: 0.0050\n",
      "Epoch 32/70\n",
      "4/4 [==============================] - ETA: 0s - loss: 0.0117\n",
      "Epoch 00032: val_loss did not improve from 0.00499\n",
      "4/4 [==============================] - 1s 213ms/step - loss: 0.0117 - val_loss: 0.0078\n",
      "Epoch 33/70\n",
      "4/4 [==============================] - ETA: 0s - loss: 0.0106\n",
      "Epoch 00033: val_loss improved from 0.00499 to 0.00498, saving model to nio.stock_prediction.hdf5\n",
      "4/4 [==============================] - 1s 256ms/step - loss: 0.0106 - val_loss: 0.0050\n",
      "Epoch 34/70\n",
      "4/4 [==============================] - ETA: 0s - loss: 0.0129\n",
      "Epoch 00034: val_loss did not improve from 0.00498\n",
      "4/4 [==============================] - 1s 184ms/step - loss: 0.0129 - val_loss: 0.0052\n",
      "Epoch 35/70\n",
      "4/4 [==============================] - ETA: 0s - loss: 0.0112\n",
      "Epoch 00035: val_loss improved from 0.00498 to 0.00317, saving model to nio.stock_prediction.hdf5\n",
      "4/4 [==============================] - 1s 193ms/step - loss: 0.0112 - val_loss: 0.0032\n",
      "Epoch 36/70\n",
      "4/4 [==============================] - ETA: 0s - loss: 0.0114\n",
      "Epoch 00036: val_loss did not improve from 0.00317\n",
      "4/4 [==============================] - 1s 173ms/step - loss: 0.0114 - val_loss: 0.0038\n",
      "Epoch 37/70\n",
      "4/4 [==============================] - ETA: 0s - loss: 0.0122\n",
      "Epoch 00037: val_loss improved from 0.00317 to 0.00276, saving model to nio.stock_prediction.hdf5\n",
      "4/4 [==============================] - 1s 209ms/step - loss: 0.0122 - val_loss: 0.0028\n"
     ]
    },
    {
     "name": "stdout",
     "output_type": "stream",
     "text": [
      "Epoch 38/70\n",
      "4/4 [==============================] - ETA: 0s - loss: 0.0115\n",
      "Epoch 00038: val_loss did not improve from 0.00276\n",
      "4/4 [==============================] - 1s 161ms/step - loss: 0.0115 - val_loss: 0.0034\n",
      "Epoch 39/70\n",
      "4/4 [==============================] - ETA: 0s - loss: 0.0117\n",
      "Epoch 00039: val_loss did not improve from 0.00276\n",
      "4/4 [==============================] - 1s 183ms/step - loss: 0.0117 - val_loss: 0.0032\n",
      "Epoch 40/70\n",
      "4/4 [==============================] - ETA: 0s - loss: 0.0100\n",
      "Epoch 00040: val_loss did not improve from 0.00276\n",
      "4/4 [==============================] - 1s 154ms/step - loss: 0.0100 - val_loss: 0.0028\n",
      "Epoch 41/70\n",
      "4/4 [==============================] - ETA: 0s - loss: 0.0098\n",
      "Epoch 00041: val_loss did not improve from 0.00276\n",
      "4/4 [==============================] - 1s 152ms/step - loss: 0.0098 - val_loss: 0.0040\n",
      "Epoch 42/70\n",
      "4/4 [==============================] - ETA: 0s - loss: 0.0115\n",
      "Epoch 00042: val_loss improved from 0.00276 to 0.00266, saving model to nio.stock_prediction.hdf5\n",
      "4/4 [==============================] - 1s 187ms/step - loss: 0.0115 - val_loss: 0.0027\n",
      "Epoch 43/70\n",
      "4/4 [==============================] - ETA: 0s - loss: 0.0117\n",
      "Epoch 00043: val_loss did not improve from 0.00266\n",
      "4/4 [==============================] - 1s 200ms/step - loss: 0.0117 - val_loss: 0.0046\n",
      "Epoch 44/70\n",
      "4/4 [==============================] - ETA: 0s - loss: 0.0113\n",
      "Epoch 00044: val_loss did not improve from 0.00266\n",
      "4/4 [==============================] - 1s 196ms/step - loss: 0.0113 - val_loss: 0.0029\n",
      "Epoch 45/70\n",
      "4/4 [==============================] - ETA: 0s - loss: 0.0095\n",
      "Epoch 00045: val_loss did not improve from 0.00266\n",
      "4/4 [==============================] - 1s 187ms/step - loss: 0.0095 - val_loss: 0.0035\n",
      "Epoch 46/70\n",
      "4/4 [==============================] - ETA: 0s - loss: 0.0097\n",
      "Epoch 00046: val_loss did not improve from 0.00266\n",
      "4/4 [==============================] - 1s 191ms/step - loss: 0.0097 - val_loss: 0.0035\n",
      "Epoch 47/70\n",
      "4/4 [==============================] - ETA: 0s - loss: 0.0087\n",
      "Epoch 00047: val_loss did not improve from 0.00266\n",
      "4/4 [==============================] - 1s 150ms/step - loss: 0.0087 - val_loss: 0.0033\n",
      "Epoch 48/70\n",
      "4/4 [==============================] - ETA: 0s - loss: 0.0092\n",
      "Epoch 00048: val_loss did not improve from 0.00266\n",
      "4/4 [==============================] - 1s 154ms/step - loss: 0.0092 - val_loss: 0.0058\n",
      "Epoch 49/70\n",
      "4/4 [==============================] - ETA: 0s - loss: 0.0132\n",
      "Epoch 00049: val_loss did not improve from 0.00266\n",
      "4/4 [==============================] - 1s 157ms/step - loss: 0.0132 - val_loss: 0.0030\n",
      "Epoch 50/70\n",
      "4/4 [==============================] - ETA: 0s - loss: 0.0084\n",
      "Epoch 00050: val_loss did not improve from 0.00266\n",
      "4/4 [==============================] - 1s 146ms/step - loss: 0.0084 - val_loss: 0.0032\n",
      "Epoch 51/70\n",
      "4/4 [==============================] - ETA: 0s - loss: 0.0086\n",
      "Epoch 00051: val_loss did not improve from 0.00266\n",
      "4/4 [==============================] - 1s 166ms/step - loss: 0.0086 - val_loss: 0.0031\n",
      "Epoch 52/70\n",
      "4/4 [==============================] - ETA: 0s - loss: 0.0090\n",
      "Epoch 00052: val_loss did not improve from 0.00266\n",
      "4/4 [==============================] - 1s 158ms/step - loss: 0.0090 - val_loss: 0.0032\n",
      "Epoch 53/70\n",
      "4/4 [==============================] - ETA: 0s - loss: 0.0101\n",
      "Epoch 00053: val_loss did not improve from 0.00266\n",
      "4/4 [==============================] - 1s 179ms/step - loss: 0.0101 - val_loss: 0.0033\n",
      "Epoch 54/70\n",
      "4/4 [==============================] - ETA: 0s - loss: 0.0100\n",
      "Epoch 00054: val_loss did not improve from 0.00266\n",
      "4/4 [==============================] - 1s 163ms/step - loss: 0.0100 - val_loss: 0.0032\n",
      "Epoch 55/70\n",
      "4/4 [==============================] - ETA: 0s - loss: 0.0093\n",
      "Epoch 00055: val_loss did not improve from 0.00266\n",
      "4/4 [==============================] - 1s 177ms/step - loss: 0.0093 - val_loss: 0.0033\n",
      "Epoch 56/70\n",
      "4/4 [==============================] - ETA: 0s - loss: 0.0087\n",
      "Epoch 00056: val_loss did not improve from 0.00266\n",
      "4/4 [==============================] - 1s 202ms/step - loss: 0.0087 - val_loss: 0.0036\n",
      "Epoch 57/70\n",
      "4/4 [==============================] - ETA: 0s - loss: 0.0105\n",
      "Epoch 00057: val_loss did not improve from 0.00266\n",
      "4/4 [==============================] - 1s 201ms/step - loss: 0.0105 - val_loss: 0.0040\n",
      "Epoch 58/70\n",
      "4/4 [==============================] - ETA: 0s - loss: 0.0102\n",
      "Epoch 00058: val_loss did not improve from 0.00266\n",
      "4/4 [==============================] - 1s 194ms/step - loss: 0.0102 - val_loss: 0.0036\n",
      "Epoch 59/70\n",
      "4/4 [==============================] - ETA: 0s - loss: 0.0080\n",
      "Epoch 00059: val_loss did not improve from 0.00266\n",
      "4/4 [==============================] - 1s 195ms/step - loss: 0.0080 - val_loss: 0.0036\n",
      "Epoch 60/70\n",
      "4/4 [==============================] - ETA: 0s - loss: 0.0094\n",
      "Epoch 00060: val_loss did not improve from 0.00266\n",
      "4/4 [==============================] - 1s 164ms/step - loss: 0.0094 - val_loss: 0.0041\n",
      "Epoch 61/70\n",
      "4/4 [==============================] - ETA: 0s - loss: 0.0088\n",
      "Epoch 00061: val_loss did not improve from 0.00266\n",
      "4/4 [==============================] - 1s 164ms/step - loss: 0.0088 - val_loss: 0.0038\n",
      "Epoch 62/70\n",
      "4/4 [==============================] - ETA: 0s - loss: 0.0088\n",
      "Epoch 00062: val_loss did not improve from 0.00266\n",
      "4/4 [==============================] - 1s 154ms/step - loss: 0.0088 - val_loss: 0.0039\n",
      "Epoch 63/70\n",
      "4/4 [==============================] - ETA: 0s - loss: 0.0097\n",
      "Epoch 00063: val_loss did not improve from 0.00266\n",
      "4/4 [==============================] - 1s 194ms/step - loss: 0.0097 - val_loss: 0.0054\n",
      "Epoch 64/70\n",
      "4/4 [==============================] - ETA: 0s - loss: 0.0090\n",
      "Epoch 00064: val_loss did not improve from 0.00266\n",
      "4/4 [==============================] - 1s 150ms/step - loss: 0.0090 - val_loss: 0.0065\n",
      "Epoch 65/70\n",
      "4/4 [==============================] - ETA: 0s - loss: 0.0097\n",
      "Epoch 00065: val_loss did not improve from 0.00266\n",
      "4/4 [==============================] - 1s 191ms/step - loss: 0.0097 - val_loss: 0.0054\n",
      "Epoch 66/70\n",
      "4/4 [==============================] - ETA: 0s - loss: 0.0089\n",
      "Epoch 00066: val_loss did not improve from 0.00266\n",
      "4/4 [==============================] - 1s 160ms/step - loss: 0.0089 - val_loss: 0.0035\n",
      "Epoch 67/70\n",
      "4/4 [==============================] - ETA: 0s - loss: 0.0085\n",
      "Epoch 00067: val_loss did not improve from 0.00266\n",
      "4/4 [==============================] - 1s 196ms/step - loss: 0.0085 - val_loss: 0.0042\n",
      "Epoch 68/70\n",
      "4/4 [==============================] - ETA: 0s - loss: 0.0089\n",
      "Epoch 00068: val_loss did not improve from 0.00266\n",
      "4/4 [==============================] - 1s 187ms/step - loss: 0.0089 - val_loss: 0.0040\n",
      "Epoch 69/70\n",
      "4/4 [==============================] - ETA: 0s - loss: 0.0080\n",
      "Epoch 00069: val_loss did not improve from 0.00266\n",
      "4/4 [==============================] - 1s 176ms/step - loss: 0.0080 - val_loss: 0.0063\n",
      "Epoch 70/70\n",
      "4/4 [==============================] - ETA: 0s - loss: 0.0090\n",
      "Epoch 00070: val_loss did not improve from 0.00266\n",
      "4/4 [==============================] - 1s 170ms/step - loss: 0.0090 - val_loss: 0.0048\n"
     ]
    }
   ],
   "source": [
    "history = model.fit(x_train,y_train,batch_size=32,epochs=70,verbose=1,callbacks=[checkpointer],validation_split=0.05)"
   ]
  },
  {
   "cell_type": "markdown",
   "metadata": {
    "id": "xfB1hAfWmq_e"
   },
   "source": [
    "### 5. Visualizing Results"
   ]
  },
  {
   "cell_type": "markdown",
   "metadata": {
    "id": "SUnFlP93mq_e"
   },
   "source": [
    "#### Plotting the Predicted Stock Price with True Stock Price"
   ]
  },
  {
   "cell_type": "code",
   "execution_count": 17,
   "metadata": {
    "colab": {
     "base_uri": "https://localhost:8080/",
     "height": 514
    },
    "id": "iBLC44gimq_e",
    "outputId": "06430019-9331-48d9-e7d8-b5de34498b43",
    "scrolled": false
   },
   "outputs": [
    {
     "data": {
      "text/plain": [
       "<matplotlib.legend.Legend at 0x117378fc4c0>"
      ]
     },
     "execution_count": 17,
     "metadata": {},
     "output_type": "execute_result"
    },
    {
     "data": {
      "image/png": "[encoded data removed]",
      "text/plain": [
       "<Figure size 2520x720 with 1 Axes>"
      ]
     },
     "metadata": {
      "needs_background": "light"
     },
     "output_type": "display_data"
    }
   ],
   "source": [
    "predictions = model.predict(x_test)\n",
    "predictions = scaler.inverse_transform(predictions)\n",
    "\n",
    "fig, ax = plt.subplots(figsize=(35,10))\n",
    "plt.plot(df, color='red',  label=\"True Stock Price\",)\n",
    "ax.plot(range(len(y_train)+50,len(y_train)+50+len(predictions)),predictions, color='blue', label='Predicted Stock Price')\n",
    "plt.legend()"
   ]
  },
  {
   "cell_type": "code",
   "execution_count": 18,
   "metadata": {
    "colab": {
     "base_uri": "https://localhost:8080/",
     "height": 512
    },
    "id": "pPNhlhJWmq_e",
    "outputId": "3f04993a-0133-4dbc-d804-11fafc2175cd",
    "scrolled": true
   },
   "outputs": [
    {
     "data": {
      "text/plain": [
       "<matplotlib.legend.Legend at 0x1173b5dda90>"
      ]
     },
     "execution_count": 18,
     "metadata": {},
     "output_type": "execute_result"
    },
    {
     "data": {
      "image/png": "[encoded data removed]",
      "text/plain": [
       "<Figure size 2520x720 with 1 Axes>"
      ]
     },
     "metadata": {
      "needs_background": "light"
     },
     "output_type": "display_data"
    }
   ],
   "source": [
    "y_test_scaled = scaler.inverse_transform(y_test.reshape(-1, 1))\n",
    "\n",
    "\n",
    "fig, ax = plt.subplots(figsize=(35,10))\n",
    "ax.plot(y_test_scaled, color='red', label='True Stock Price')\n",
    "plt.plot(predictions, color='blue', label='Predicted Stock Price')\n",
    "plt.legend()"
   ]
  },
  {
   "cell_type": "markdown",
   "metadata": {
    "id": "NdoOhEwUmq_f"
   },
   "source": [
    "The Graph looks beautiful !!"
   ]
  },
  {
   "cell_type": "markdown",
   "metadata": {
    "id": "SMX2GAPtmq_f"
   },
   "source": [
    "## Evaluation"
   ]
  },
  {
   "cell_type": "code",
   "execution_count": 19,
   "metadata": {
    "id": "OOLMMyZfmq_f"
   },
   "outputs": [],
   "source": [
    "data.reset_index(inplace=True)\n",
    "comparison = data[['date','Close']].iloc[len(y_train)+50:] \n",
    "comparison['Predictions'] = predictions"
   ]
  },
  {
   "cell_type": "markdown",
   "metadata": {
    "id": "w1BTf8THZGC-"
   },
   "source": [
    "### MSE"
   ]
  },
  {
   "cell_type": "code",
   "execution_count": 20,
   "metadata": {
    "colab": {
     "base_uri": "https://localhost:8080/"
    },
    "id": "UGGMF4-KZGDA",
    "outputId": "1acd0d53-7a3e-4b97-8f0f-08e9c3ff5848"
   },
   "outputs": [
    {
     "name": "stdout",
     "output_type": "stream",
     "text": [
      "Mean Squared Error:  14.43531\n"
     ]
    }
   ],
   "source": [
    "LR_test_mse=mean_squared_error(comparison['Close'],comparison['Predictions'])\n",
    "print('Mean Squared Error: ', round(LR_test_mse,5))"
   ]
  },
  {
   "cell_type": "markdown",
   "metadata": {
    "id": "ecIh2V5aZGDG"
   },
   "source": [
    "### MAE"
   ]
  },
  {
   "cell_type": "code",
   "execution_count": 21,
   "metadata": {
    "colab": {
     "base_uri": "https://localhost:8080/"
    },
    "id": "EPewmcfSZGDJ",
    "outputId": "5f7f5467-5296-4e03-90d1-1791255bbb6b"
   },
   "outputs": [
    {
     "name": "stdout",
     "output_type": "stream",
     "text": [
      "Mean Absolute Error:  3.12593\n"
     ]
    }
   ],
   "source": [
    "LR_test_MAE=mean_absolute_error(comparison['Close'],comparison['Predictions'])\n",
    "print('Mean Absolute Error: ', round(LR_test_MAE,5))"
   ]
  }
 ],
 "metadata": {
  "colab": {
   "collapsed_sections": [
    "46nKYFnh6KyZ",
    "xyTxPgGq6Kya",
    "e5eoGsX_6Ky8"
   ],
   "name": "LI Code.ipynb",
   "provenance": []
  },
  "kernelspec": {
   "display_name": "Python 3",
   "language": "python",
   "name": "python3"
  },
  "language_info": {
   "codemirror_mode": {
    "name": "ipython",
    "version": 3
   },
   "file_extension": ".py",
   "mimetype": "text/x-python",
   "name": "python",
   "nbconvert_exporter": "python",
   "pygments_lexer": "ipython3",
   "version": "3.8.8"
  }
 },
 "nbformat": 4,
 "nbformat_minor": 1
}
